{
  "nbformat": 4,
  "nbformat_minor": 0,
  "metadata": {
    "colab": {
      "provenance": [],
      "authorship_tag": "ABX9TyPyp7qxXPF7cwVCcLQc0SA1",
      "include_colab_link": true
    },
    "kernelspec": {
      "name": "python3",
      "display_name": "Python 3"
    },
    "language_info": {
      "name": "python"
    }
  },
  "cells": [
    {
      "cell_type": "markdown",
      "metadata": {
        "id": "view-in-github",
        "colab_type": "text"
      },
      "source": [
        "<a href=\"https://colab.research.google.com/github/humeratabassum/repo-1/blob/main/os.ipynb\" target=\"_parent\"><img src=\"https://colab.research.google.com/assets/colab-badge.svg\" alt=\"Open In Colab\"/></a>"
      ]
    },
    {
      "cell_type": "code",
      "execution_count": null,
      "metadata": {
        "colab": {
          "base_uri": "https://localhost:8080/"
        },
        "id": "pt3DoMBkKOlx",
        "outputId": "650211d2-fb16-45ee-a9d0-d5b7c3b65460"
      },
      "outputs": [
        {
          "output_type": "stream",
          "name": "stdout",
          "text": [
            "p.no\t arrival time \tburst time \twaiting time \tturnaround time\n",
            "1\t\t 1 \t\t 3 \t\t 0 \t\t 3\n",
            "2 \t\t 2 \t\t 2 \t\t 2 \t\t 4\n",
            "3 \t\t 3 \t\t 1 \t\t 3 \t\t 4\n",
            "4 \t\t 4 \t\t 1 \t\t 3 \t\t 4\n",
            "5 \t\t 5 \t\t 2 \t\t 3 \t\t 5\n",
            "\n",
            "average waiting time:  2.2\n",
            "\n",
            "average turn arounf time:  3.4\n"
          ]
        }
      ],
      "source": [
        "#fcfs\n",
        "\n",
        "def waitinftime(at,bt,n):\n",
        "  wt=[0]*n\n",
        "  tat=[0]*n\n",
        "\n",
        "  wt[0]=0\n",
        "\n",
        "  print(\"p.no\\t arrival time \\tburst time \\twaiting time \\tturnaround time\")\n",
        "  print(\"1\\t\\t\",at[0],'\\t\\t',bt[0],'\\t\\t',wt[0],\"\\t\\t\",wt[0]+bt[0])\n",
        "\n",
        "  for i in range(1,n):\n",
        "    wt[i]=(at[i-1]+bt[i-1]+wt[i-1])-at[i]\n",
        "    tat[i]=wt[i]+bt[i]\n",
        "\n",
        "    print(i+1,\"\\t\\t\",at[i],\"\\t\\t\",bt[i],\"\\t\\t\",wt[i],\"\\t\\t\",tat[i])\n",
        "\n",
        "  sum_wt=avg_wt=0.0\n",
        "  sum_tat=avg_tat=0.0\n",
        "  for i in range(n):\n",
        "    sum_wt=sum_wt+wt[i]\n",
        "    sum_tat=sum_tat+tat[i]\n",
        "\n",
        "  avg_tat=sum_tat/n\n",
        "  avg_wt=sum_wt/n\n",
        "\n",
        "  print(\"\\naverage waiting time: \",avg_wt)\n",
        "  print(\"\\naverage turn arounf time: \",avg_tat)\n",
        "\n",
        "\n",
        "if __name__==\"__main__\":\n",
        "  n=5\n",
        "  at=[1,2,3,4,5]\n",
        "  bt=[3,2,1,1,2]\n",
        "\n",
        "  waitinftime(at,bt,n)"
      ]
    },
    {
      "cell_type": "code",
      "source": [
        "#bankers algorithm\n",
        "def is_safe(processes, avail, max_demand, allocation, need):\n",
        "    work = avail.copy()\n",
        "    finish = [False] * len(processes)\n",
        "    safe_seq = []\n",
        "\n",
        "    while len(safe_seq) < len(processes):\n",
        "        allocated_in_this_round = False\n",
        "        for p in range(len(processes)):\n",
        "            if not finish[p] and all(need[p][r] <= work[r] for r in range(len(avail))):\n",
        "                for r in range(len(avail)):\n",
        "                    work[r] += allocation[p][r]\n",
        "                finish[p] = True\n",
        "                safe_seq.append(p)\n",
        "                allocated_in_this_round = True\n",
        "        if not allocated_in_this_round:\n",
        "            return False, []\n",
        "\n",
        "    return True, safe_seq\n",
        "\n",
        "def bankers_algorithm(processes, avail, max_demand, allocation):\n",
        "    need = [[max_demand[i][j] - allocation[i][j] for j in range(len(avail))] for i in range(len(processes))]\n",
        "\n",
        "    safe, safe_seq = is_safe(processes, avail, max_demand, allocation, need)\n",
        "    if safe:\n",
        "        print(\"System is in a safe state.\")\n",
        "        print(\"Safe sequence is:\", safe_seq)\n",
        "    else:\n",
        "        print(\"System is not in a safe state.\")\n",
        "\n",
        "# Example usage\n",
        "processes = [0, 1, 2, 3, 4]  # P0, P1, P2, P3, P4\n",
        "\n",
        "avail = [3, 3, 2]  # Available instances of resources R1, R2, R3\n",
        "\n",
        "max_demand = [\n",
        "    [7, 5, 3],  # Maximum demand of P0\n",
        "    [3, 2, 2],  # Maximum demand of P1\n",
        "    [9, 0, 2],  # Maximum demand of P2\n",
        "    [2, 2, 2],  # Maximum demand of P3\n",
        "    [4, 3, 3]   # Maximum demand of P4\n",
        "]\n",
        "\n",
        "allocation = [\n",
        "    [0, 1, 0],  # Resources allocated to P0\n",
        "    [2, 0, 0],  # Resources allocated to P1\n",
        "    [3, 0, 2],  # Resources allocated to P2\n",
        "    [2, 1, 1],  # Resources allocated to P3\n",
        "    [0, 0, 2]   # Resources allocated to P4\n",
        "]\n",
        "\n",
        "bankers_algorithm(processes, avail, max_demand, allocation)"
      ],
      "metadata": {
        "id": "BZ-Mlkh1vNFt",
        "outputId": "28543321-176c-44df-ce5b-a8870ab92e06",
        "colab": {
          "base_uri": "https://localhost:8080/"
        }
      },
      "execution_count": null,
      "outputs": [
        {
          "output_type": "stream",
          "name": "stdout",
          "text": [
            "System is in a safe state.\n",
            "Safe sequence is: [1, 3, 4, 0, 2]\n"
          ]
        }
      ]
    },
    {
      "cell_type": "code",
      "source": [
        "#sjf\n",
        "\n",
        "def sjf(processes):\n",
        "  processes.sort(key=lambda x:x[1])\n",
        "\n",
        "  n=len(processes)\n",
        "  wt=0\n",
        "  tat=0\n",
        "\n",
        "  print(\"processes\\tburst time\\twaiting time \\ttat\")\n",
        "\n",
        "  current_time=0\n",
        "  for process in processes:\n",
        "    process_id,burst_time=process\n",
        "    wt+=current_time\n",
        "    tat+=current_time+burst_time\n",
        "\n",
        "    print(f\"{process_id}\\t\\t{burst_time}\\t\\t{wt}\\t\\t{tat}\")\n",
        "    current_time+=burst_time\n",
        "\n",
        "  avg_wt=wt/n\n",
        "  avg_tat=tat/n\n",
        "  print(\"avg wt: \",avg_wt)\n",
        "  print(\"avg_tat: \",avg_tat)\n",
        "\n",
        "if __name__==\"__main__\":\n",
        "  processes=[\n",
        "      (1, 5),\n",
        "        (2, 3),\n",
        "        (3, 8),\n",
        "        (4, 6)\n",
        "\n",
        "  ]\n",
        "sjf(processes)"
      ],
      "metadata": {
        "colab": {
          "base_uri": "https://localhost:8080/"
        },
        "id": "Lfom2HlUe3rR",
        "outputId": "b68ac958-23d3-43f4-be94-58d08ad4d07a"
      },
      "execution_count": null,
      "outputs": [
        {
          "output_type": "stream",
          "name": "stdout",
          "text": [
            "processes\tburst time\twaiting time \ttat\n",
            "2\t\t3\t\t0\t\t3\n",
            "1\t\t5\t\t3\t\t11\n",
            "4\t\t6\t\t11\t\t25\n",
            "3\t\t8\t\t25\t\t47\n",
            "avg wt:  6.25\n",
            "avg_tat:  11.75\n"
          ]
        }
      ]
    },
    {
      "cell_type": "code",
      "source": [
        "#shortest job first non preemtive\n",
        "\n",
        "def main():\n",
        "  bt=[]\n",
        "  p=[]\n",
        "  wt=[]\n",
        "  tat=[]\n",
        "  n=0\n",
        "  total=0\n",
        "  avg_wt=0\n",
        "  avg_tat=0\n",
        "\n",
        "  n=int(input(\"enter the no.of processes: \"))\n",
        "\n",
        "  print(\"\\nenter burst time: \")\n",
        "  for i in range(n):\n",
        "    print(\"p{}:\".format(i+1),end='')\n",
        "    bt.append(int(input()))\n",
        "    p.append(i+1)\n",
        "\n",
        "  #sorting the burst times\n",
        "  for i in range(n):\n",
        "    pos=i\n",
        "    for j in range(i+1,n):\n",
        "      if bt[j]<bt[pos]:\n",
        "        pos=j\n",
        "\n",
        "    bt[i],bt[pos]=bt[pos],bt[i]\n",
        "    p[i],p[pos]=p[pos],p[i]\n",
        "\n",
        "  wt.append(0)\n",
        "\n",
        "  for i in range(1,n):\n",
        "    wt.append(0)\n",
        "    for j in range(i):\n",
        "      wt[i]+=bt[j]\n",
        "    total+=wt[i]\n",
        "\n",
        "\n",
        "  avg_wt=total/n\n",
        "  total=0\n",
        "  print(\"\\nprocess\\tburst time\\nwaiting time\\tturnaround time\")\n",
        "  for i in range(n):\n",
        "    tat.append(bt[i]+wt[i])\n",
        "    total+=tat[i]\n",
        "\n",
        "    print(\"p{}\\t\\t{}\\t\\t{}\\t\\t{}\".format(p[i],bt[i],wt[i],tat[i]))\n",
        "\n",
        "\n",
        "  avg_tat=total/n\n",
        "  print(\"\\naverage turn around time: \",avg_tat)\n",
        "  print(\"\\naverage waitingtime: \",avg_wt)\n",
        "\n",
        "if __name__==\"__main__\":\n",
        "  main()"
      ],
      "metadata": {
        "colab": {
          "base_uri": "https://localhost:8080/"
        },
        "id": "a5W7yq5wT8oB",
        "outputId": "ef5b5658-94ce-4c60-b771-26aa9c44f355"
      },
      "execution_count": null,
      "outputs": [
        {
          "output_type": "stream",
          "name": "stdout",
          "text": [
            "enter the no.of processes: 4\n",
            "\n",
            "enter burst time: \n",
            "p1:3\n",
            "p2:4\n",
            "p3:2\n",
            "p4:4\n",
            "\n",
            "process\tburst time\n",
            "waiting time\tturnaround time\n",
            "p3\t\t2\t\t0\t\t2\n",
            "p1\t\t3\t\t2\t\t5\n",
            "p2\t\t4\t\t5\t\t9\n",
            "p4\t\t4\t\t9\t\t13\n",
            "\n",
            "average turn around time:  7.25\n",
            "\n",
            "average waitingtime:  4.0\n"
          ]
        }
      ]
    },
    {
      "cell_type": "code",
      "source": [
        "#priority scheduling\n",
        "\n",
        "def priority_scheduling(processes):\n",
        "  processes.sort(key=lambda x:x[1])\n",
        "\n",
        "  total_processes=len(processes)\n",
        "  wait_time=0\n",
        "  turnaround_time=0\n",
        "\n",
        "  print(\"processes\\tpriority \\tburst time \\twaitingtime \\tturnaround_time\")\n",
        "\n",
        "  current_time=0\n",
        "  for process in processes:\n",
        "    process_id,priority,burst_time=process\n",
        "    wait_time+=current_time\n",
        "    turnaround_time+=current_time+ burst_time\n",
        "\n",
        "    print(f\"{process_id}\\t\\t{priority}\\t\\t{burst_time}\\t\\t{wait_time}\\t\\t{turnaround_time}\")\n",
        "    current_time+=burst_time\n",
        "\n",
        "  avg_wait_time=wait_time/total_processes\n",
        "  avg_turnaround_time=turnaround_time/total_processes\n",
        "\n",
        "  print(\"\\navg waiting time: \",avg_wait_time)\n",
        "  print(\"\\navg tat time: \",avg_turnaround_time)\n",
        "\n",
        "\n",
        "if __name__==\"__main__\":\n",
        "  processes=[\n",
        "      (1,3,5),\n",
        "      (2,1,3),\n",
        "      (3,2,8),\n",
        "      (4,4,6)\n",
        "\n",
        "  ]\n",
        "  priority_scheduling(processes)"
      ],
      "metadata": {
        "colab": {
          "base_uri": "https://localhost:8080/"
        },
        "id": "S_vwglS8V3Mf",
        "outputId": "f3aaf178-daf4-4003-e0f0-5ce1a519187b"
      },
      "execution_count": null,
      "outputs": [
        {
          "output_type": "stream",
          "name": "stdout",
          "text": [
            "processes\tpriority \tburst time \twaitingtime \tturnaround_time\n",
            "2\t\t1\t\t3\t\t0\t\t3\n",
            "3\t\t2\t\t8\t\t3\t\t14\n",
            "1\t\t3\t\t5\t\t14\t\t30\n",
            "4\t\t4\t\t6\t\t30\t\t52\n",
            "\n",
            "avg waiting time:  7.5\n",
            "\n",
            "avg tat time:  13.0\n"
          ]
        }
      ]
    },
    {
      "cell_type": "code",
      "source": [
        "#round robin\n",
        "def round_robin(process_list,time_quanta):\n",
        "    t = 0\n",
        "    gantt = []\n",
        "    completed = {}\n",
        "    #sort the processes wrt at\n",
        "    process_list.sort()\n",
        "    burst_times = {}\n",
        "    for p in process_list:\n",
        "        pid = p[2]\n",
        "        burst_time = p[1]\n",
        "        burst_times[pid] = burst_time\n",
        "    while process_list != []:\n",
        "        available = []\n",
        "        for p in process_list:\n",
        "            at = p[0]\n",
        "            if p[0] <= t:\n",
        "                available.append(p)\n",
        "        #boundary condition 1\n",
        "        if available == []:\n",
        "            gantt.append(\"Idle\")\n",
        "            t += 1\n",
        "            continue\n",
        "        else:\n",
        "            process = available[0]\n",
        "            #Service this process now\n",
        "            gantt.append(process[2])\n",
        "            #remove the process\n",
        "            process_list.remove(process)\n",
        "            #Update the burst time\n",
        "            rem_burst = process[1]\n",
        "            if rem_burst <= time_quanta:\n",
        "                t += rem_burst\n",
        "                ct = t\n",
        "                pid = process[2]\n",
        "                arrival_time = process[0]\n",
        "                burst_time = burst_times[pid]\n",
        "                tt = ct - arrival_time\n",
        "                wt = tt - burst_time\n",
        "                completed[process[2]] = [ct,tt,wt]\n",
        "                continue\n",
        "            else:\n",
        "                t += time_quanta\n",
        "                process[1] -= time_quanta\n",
        "                process_list.append(process)\n",
        "    print(gantt)\n",
        "    print(completed)\n",
        "\n",
        "if __name__ ==\"__main__\":\n",
        "    process_list = [[2,6,\"p1\"],[5,2,\"p2\"],[1,8,\"p3\"],[0,3,\"p4\"],[4,4,\"p5\"]]\n",
        "    time_quanta = 2\n",
        "    round_robin(process_list,time_quanta)"
      ],
      "metadata": {
        "colab": {
          "base_uri": "https://localhost:8080/"
        },
        "id": "0BzpesVgZm4B",
        "outputId": "75e5098a-0504-452e-fa14-b99ae3e132f6"
      },
      "execution_count": null,
      "outputs": [
        {
          "output_type": "stream",
          "name": "stdout",
          "text": [
            "['p4', 'p3', 'p1', 'p5', 'p2', 'p4', 'p3', 'p1', 'p5', 'p3', 'p1', 'p3']\n",
            "{'p2': [10, 5, 3], 'p4': [11, 11, 8], 'p5': [17, 13, 9], 'p1': [21, 19, 13], 'p3': [23, 22, 14]}\n"
          ]
        }
      ]
    }
  ]
}