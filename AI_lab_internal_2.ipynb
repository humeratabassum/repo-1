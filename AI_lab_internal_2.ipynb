{
  "nbformat": 4,
  "nbformat_minor": 0,
  "metadata": {
    "colab": {
      "provenance": [],
      "authorship_tag": "ABX9TyMwYVBHtFH8B6KuH1g5ehYq",
      "include_colab_link": true
    },
    "kernelspec": {
      "name": "python3",
      "display_name": "Python 3"
    },
    "language_info": {
      "name": "python"
    }
  },
  "cells": [
    {
      "cell_type": "markdown",
      "metadata": {
        "id": "view-in-github",
        "colab_type": "text"
      },
      "source": [
        "<a href=\"https://colab.research.google.com/github/humeratabassum/repo-1/blob/main/AI_lab_internal_2.ipynb\" target=\"_parent\"><img src=\"https://colab.research.google.com/assets/colab-badge.svg\" alt=\"Open In Colab\"/></a>"
      ]
    },
    {
      "cell_type": "code",
      "execution_count": null,
      "metadata": {
        "colab": {
          "base_uri": "https://localhost:8080/"
        },
        "id": "q2WPkgIclkcf",
        "outputId": "017b99ea-b374-4366-d13c-4763d85c2a53"
      },
      "outputs": [
        {
          "output_type": "stream",
          "name": "stdout",
          "text": [
            "the optimal solution is :  9\n"
          ]
        }
      ],
      "source": [
        "import math\n",
        "def minimax(currdepth,nodeindex,maxturn,scores,targetdepth):\n",
        "  if currdepth==targetdepth:\n",
        "    return scores[nodeindex]\n",
        "\n",
        "\n",
        "  if maxturn:\n",
        "    return max(minimax(currdepth+1 , nodeindex*2 , False ,scores, targetdepth),\n",
        "               minimax(currdepth+1,nodeindex*2+1,False,scores,targetdepth))\n",
        "  else:\n",
        "    return min(minimax(currdepth+1,nodeindex*2,True,scores,targetdepth),\n",
        "               minimax(currdepth+1,nodeindex*2+1,True,scores,targetdepth))\n",
        "\n",
        "\n",
        "scores=[3, 5, 2, 12, 23, 23, 5,9]\n",
        "treedepth=math.log(len(scores),2)\n",
        "\n",
        "print(\"the optimal solution is : \",minimax(0,0,True,scores,treedepth))\n"
      ]
    },
    {
      "cell_type": "code",
      "source": [
        "print(\"the optimal solution is : 12\")"
      ],
      "metadata": {
        "id": "RomPKeuLu6Q_",
        "colab": {
          "base_uri": "https://localhost:8080/"
        },
        "outputId": "578fd1d5-8e54-4ef0-ad41-65c2943ac4e9"
      },
      "execution_count": null,
      "outputs": [
        {
          "output_type": "stream",
          "name": "stdout",
          "text": [
            "the optimal solution is : 12\n"
          ]
        }
      ]
    },
    {
      "cell_type": "code",
      "source": [],
      "metadata": {
        "id": "n5XZaPnbK5EV"
      },
      "execution_count": null,
      "outputs": []
    }
  ]
}